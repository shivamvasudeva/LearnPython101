{
 "cells": [
  {
   "cell_type": "code",
   "execution_count": 1,
   "id": "82b0c9be",
   "metadata": {},
   "outputs": [],
   "source": [
    "import numpy as np"
   ]
  },
  {
   "cell_type": "code",
   "execution_count": null,
   "id": "03f62755",
   "metadata": {},
   "outputs": [],
   "source": [
    "myarr = np.array([[3,6,43,5]], np.int32)"
   ]
  },
  {
   "cell_type": "code",
   "execution_count": null,
   "id": "b41c2893",
   "metadata": {},
   "outputs": [],
   "source": [
    "myarr"
   ]
  },
  {
   "cell_type": "code",
   "execution_count": null,
   "id": "80544b60",
   "metadata": {},
   "outputs": [],
   "source": [
    "myarr.shape #check the matrix of arry"
   ]
  },
  {
   "cell_type": "code",
   "execution_count": null,
   "id": "d6a753bd",
   "metadata": {},
   "outputs": [],
   "source": [
    "myarr.dtype #check the type we are using"
   ]
  },
  {
   "cell_type": "code",
   "execution_count": null,
   "id": "65454059",
   "metadata": {},
   "outputs": [],
   "source": [
    "myarr[0,1] = 55 # change the val at a location"
   ]
  },
  {
   "cell_type": "code",
   "execution_count": null,
   "id": "358f76c7",
   "metadata": {},
   "outputs": [],
   "source": [
    "myarr"
   ]
  },
  {
   "cell_type": "code",
   "execution_count": null,
   "id": "dcfa5a81",
   "metadata": {},
   "outputs": [],
   "source": [
    "#List or tuples  conversion\n",
    "#array creation objects\n",
    "#Reading arry from disks\n",
    "#raw bytes\n",
    "#Special library functions"
   ]
  },
  {
   "cell_type": "code",
   "execution_count": null,
   "id": "1c219099",
   "metadata": {},
   "outputs": [],
   "source": [
    "# Arry Cretation: Conversion from other python structures "
   ]
  },
  {
   "cell_type": "code",
   "execution_count": 2,
   "id": "b1a6b83c",
   "metadata": {},
   "outputs": [],
   "source": [
    "listarry = np.array([[1,2,3],[4,5,6],[7,8,9]])"
   ]
  },
  {
   "cell_type": "code",
   "execution_count": null,
   "id": "df13894f",
   "metadata": {},
   "outputs": [],
   "source": [
    "listarry.shape"
   ]
  },
  {
   "cell_type": "code",
   "execution_count": null,
   "id": "2604da26",
   "metadata": {},
   "outputs": [],
   "source": [
    "listarry.dtype"
   ]
  },
  {
   "cell_type": "code",
   "execution_count": null,
   "id": "6b0dcfbc",
   "metadata": {},
   "outputs": [],
   "source": [
    "#array creation objects"
   ]
  },
  {
   "cell_type": "code",
   "execution_count": null,
   "id": "aa4427f7",
   "metadata": {},
   "outputs": [],
   "source": [
    "zeroz = np.zeros((2,5))"
   ]
  },
  {
   "cell_type": "code",
   "execution_count": null,
   "id": "49ac471e",
   "metadata": {},
   "outputs": [],
   "source": [
    "zeroz"
   ]
  },
  {
   "cell_type": "code",
   "execution_count": null,
   "id": "a029a216",
   "metadata": {},
   "outputs": [],
   "source": [
    "zeroz.dtype"
   ]
  },
  {
   "cell_type": "code",
   "execution_count": null,
   "id": "a50d9774",
   "metadata": {},
   "outputs": [],
   "source": [
    "rng = np.arange(16)"
   ]
  },
  {
   "cell_type": "code",
   "execution_count": null,
   "id": "56f26acb",
   "metadata": {},
   "outputs": [],
   "source": [
    "rng"
   ]
  },
  {
   "cell_type": "code",
   "execution_count": null,
   "id": "fef2b4a4",
   "metadata": {},
   "outputs": [],
   "source": [
    "lspace = np.linspace(1,51,10)"
   ]
  },
  {
   "cell_type": "code",
   "execution_count": null,
   "id": "edf20155",
   "metadata": {},
   "outputs": [],
   "source": [
    "lspace"
   ]
  },
  {
   "cell_type": "code",
   "execution_count": null,
   "id": "76894ccf",
   "metadata": {},
   "outputs": [],
   "source": [
    "emp =np.empty((4,6))"
   ]
  },
  {
   "cell_type": "code",
   "execution_count": null,
   "id": "d7acc1ce",
   "metadata": {},
   "outputs": [],
   "source": [
    "emp"
   ]
  },
  {
   "cell_type": "code",
   "execution_count": null,
   "id": "7e495d34",
   "metadata": {},
   "outputs": [],
   "source": [
    "emp_lk = np.empty_like(lspace)"
   ]
  },
  {
   "cell_type": "code",
   "execution_count": null,
   "id": "dcef0a76",
   "metadata": {},
   "outputs": [],
   "source": [
    "emp_lk"
   ]
  },
  {
   "cell_type": "code",
   "execution_count": null,
   "id": "5fa83074",
   "metadata": {},
   "outputs": [],
   "source": [
    "idt = np.identity(45)"
   ]
  },
  {
   "cell_type": "code",
   "execution_count": null,
   "id": "648c0da2",
   "metadata": {},
   "outputs": [],
   "source": [
    "idt"
   ]
  },
  {
   "cell_type": "code",
   "execution_count": null,
   "id": "c058924b",
   "metadata": {},
   "outputs": [],
   "source": [
    "arr = np.arange(99)"
   ]
  },
  {
   "cell_type": "code",
   "execution_count": null,
   "id": "6d09b504",
   "metadata": {},
   "outputs": [],
   "source": [
    "arr"
   ]
  },
  {
   "cell_type": "code",
   "execution_count": null,
   "id": "0d4ef4db",
   "metadata": {},
   "outputs": [],
   "source": [
    "arr.reshape(3,33)"
   ]
  },
  {
   "cell_type": "code",
   "execution_count": null,
   "id": "6d5d9958",
   "metadata": {},
   "outputs": [],
   "source": [
    "arr = arr.ravel()"
   ]
  },
  {
   "cell_type": "code",
   "execution_count": null,
   "id": "70d7ecc7",
   "metadata": {},
   "outputs": [],
   "source": [
    "arr.shape"
   ]
  },
  {
   "cell_type": "code",
   "execution_count": 3,
   "id": "525313fc",
   "metadata": {},
   "outputs": [],
   "source": [
    "x = listarry"
   ]
  },
  {
   "cell_type": "code",
   "execution_count": 4,
   "id": "4c982ef6",
   "metadata": {},
   "outputs": [],
   "source": [
    "ar = np.array(x)"
   ]
  },
  {
   "cell_type": "code",
   "execution_count": null,
   "id": "baa5b0d8",
   "metadata": {},
   "outputs": [],
   "source": [
    "ar"
   ]
  },
  {
   "cell_type": "code",
   "execution_count": null,
   "id": "62371940",
   "metadata": {},
   "outputs": [],
   "source": [
    "ar.sum(axis = 0)"
   ]
  },
  {
   "cell_type": "code",
   "execution_count": null,
   "id": "1bc28e3c",
   "metadata": {},
   "outputs": [],
   "source": [
    "ar.sum(axis = 1)"
   ]
  },
  {
   "cell_type": "code",
   "execution_count": null,
   "id": "13809a71",
   "metadata": {},
   "outputs": [],
   "source": [
    "#Transpose \n",
    "ar.T"
   ]
  },
  {
   "cell_type": "code",
   "execution_count": null,
   "id": "4560fb94",
   "metadata": {},
   "outputs": [],
   "source": [
    "arflat = ar.flat\n",
    "for item in arflat:\n",
    "    print(item)"
   ]
  },
  {
   "cell_type": "code",
   "execution_count": null,
   "id": "f6db599d",
   "metadata": {},
   "outputs": [],
   "source": [
    "ar.ndim"
   ]
  },
  {
   "cell_type": "code",
   "execution_count": null,
   "id": "570bd259",
   "metadata": {},
   "outputs": [],
   "source": [
    "ar.size"
   ]
  },
  {
   "cell_type": "code",
   "execution_count": null,
   "id": "5028fb4e",
   "metadata": {},
   "outputs": [],
   "source": [
    "ar.nbytes #Size arry taking"
   ]
  },
  {
   "cell_type": "code",
   "execution_count": null,
   "id": "51525abb",
   "metadata": {},
   "outputs": [],
   "source": [
    "one = np.array([1,2,3,4,5,6,7,8,6,7])"
   ]
  },
  {
   "cell_type": "code",
   "execution_count": null,
   "id": "3e5f1c68",
   "metadata": {},
   "outputs": [],
   "source": [
    "one.argmax()"
   ]
  },
  {
   "cell_type": "code",
   "execution_count": null,
   "id": "60927209",
   "metadata": {},
   "outputs": [],
   "source": [
    "one.argmin()"
   ]
  },
  {
   "cell_type": "code",
   "execution_count": null,
   "id": "47beb198",
   "metadata": {},
   "outputs": [],
   "source": [
    "one.argsort()"
   ]
  },
  {
   "cell_type": "code",
   "execution_count": null,
   "id": "269afb62",
   "metadata": {},
   "outputs": [],
   "source": [
    "ar"
   ]
  },
  {
   "cell_type": "code",
   "execution_count": null,
   "id": "750bf580",
   "metadata": {},
   "outputs": [],
   "source": [
    "ar.argsort()"
   ]
  },
  {
   "cell_type": "code",
   "execution_count": null,
   "id": "c0e20937",
   "metadata": {},
   "outputs": [],
   "source": [
    "ar.argmin()"
   ]
  },
  {
   "cell_type": "code",
   "execution_count": null,
   "id": "29aa5828",
   "metadata": {},
   "outputs": [],
   "source": [
    "ar.argmax()"
   ]
  },
  {
   "cell_type": "code",
   "execution_count": null,
   "id": "7cd5e361",
   "metadata": {},
   "outputs": [],
   "source": [
    "ar.argmin(axis = 1)"
   ]
  },
  {
   "cell_type": "code",
   "execution_count": 5,
   "id": "cae9b735",
   "metadata": {},
   "outputs": [
    {
     "data": {
      "text/plain": [
       "array([1, 2, 3, 4, 5, 6, 7, 8, 9])"
      ]
     },
     "execution_count": 5,
     "metadata": {},
     "output_type": "execute_result"
    }
   ],
   "source": [
    "ar.ravel()"
   ]
  },
  {
   "cell_type": "code",
   "execution_count": 6,
   "id": "93ffa0f4",
   "metadata": {},
   "outputs": [
    {
     "data": {
      "text/plain": [
       "array([[1, 2, 3],\n",
       "       [4, 5, 6],\n",
       "       [7, 8, 9]])"
      ]
     },
     "execution_count": 6,
     "metadata": {},
     "output_type": "execute_result"
    }
   ],
   "source": [
    "ar\n"
   ]
  },
  {
   "cell_type": "code",
   "execution_count": 7,
   "id": "6decaf83",
   "metadata": {},
   "outputs": [],
   "source": [
    "ar2=np.array([[12, 2, 3],\n",
    "       [11, 5, 6],\n",
    "       [7, 8, 10]])"
   ]
  },
  {
   "cell_type": "code",
   "execution_count": 8,
   "id": "41751a8a",
   "metadata": {},
   "outputs": [
    {
     "data": {
      "text/plain": [
       "array([[13,  4,  6],\n",
       "       [15, 10, 12],\n",
       "       [14, 16, 19]])"
      ]
     },
     "execution_count": 8,
     "metadata": {},
     "output_type": "execute_result"
    }
   ],
   "source": [
    "ar+ar2"
   ]
  },
  {
   "cell_type": "code",
   "execution_count": 9,
   "id": "ad60c6da",
   "metadata": {},
   "outputs": [
    {
     "data": {
      "text/plain": [
       "array([[12,  4,  9],\n",
       "       [44, 25, 36],\n",
       "       [49, 64, 90]])"
      ]
     },
     "execution_count": 9,
     "metadata": {},
     "output_type": "execute_result"
    }
   ],
   "source": [
    "ar*ar2"
   ]
  },
  {
   "cell_type": "code",
   "execution_count": 12,
   "id": "3db951f1",
   "metadata": {},
   "outputs": [
    {
     "data": {
      "text/plain": [
       "array([[1.        , 1.41421356, 1.73205081],\n",
       "       [2.        , 2.23606798, 2.44948974],\n",
       "       [2.64575131, 2.82842712, 3.        ]])"
      ]
     },
     "execution_count": 12,
     "metadata": {},
     "output_type": "execute_result"
    }
   ],
   "source": [
    "np.sqrt(ar)"
   ]
  },
  {
   "cell_type": "code",
   "execution_count": 13,
   "id": "34f392ab",
   "metadata": {},
   "outputs": [
    {
     "data": {
      "text/plain": [
       "45"
      ]
     },
     "execution_count": 13,
     "metadata": {},
     "output_type": "execute_result"
    }
   ],
   "source": [
    "ar.sum()"
   ]
  },
  {
   "cell_type": "code",
   "execution_count": 14,
   "id": "2f658b6c",
   "metadata": {},
   "outputs": [
    {
     "data": {
      "text/plain": [
       "9"
      ]
     },
     "execution_count": 14,
     "metadata": {},
     "output_type": "execute_result"
    }
   ],
   "source": [
    "ar.max()"
   ]
  },
  {
   "cell_type": "code",
   "execution_count": 15,
   "id": "8b388b01",
   "metadata": {},
   "outputs": [
    {
     "data": {
      "text/plain": [
       "1"
      ]
     },
     "execution_count": 15,
     "metadata": {},
     "output_type": "execute_result"
    }
   ],
   "source": [
    "ar.min()"
   ]
  },
  {
   "cell_type": "code",
   "execution_count": 16,
   "id": "2069baed",
   "metadata": {},
   "outputs": [
    {
     "data": {
      "text/plain": [
       "array([[1, 2, 3],\n",
       "       [4, 5, 6],\n",
       "       [7, 8, 9]])"
      ]
     },
     "execution_count": 16,
     "metadata": {},
     "output_type": "execute_result"
    }
   ],
   "source": [
    "ar"
   ]
  },
  {
   "cell_type": "code",
   "execution_count": 19,
   "id": "8fa21757",
   "metadata": {},
   "outputs": [],
   "source": [
    "tt= np.where(ar> 8)"
   ]
  },
  {
   "cell_type": "code",
   "execution_count": 20,
   "id": "93115394",
   "metadata": {},
   "outputs": [
    {
     "data": {
      "text/plain": [
       "tuple"
      ]
     },
     "execution_count": 20,
     "metadata": {},
     "output_type": "execute_result"
    }
   ],
   "source": [
    "type(tt)"
   ]
  },
  {
   "cell_type": "code",
   "execution_count": 21,
   "id": "41304611",
   "metadata": {},
   "outputs": [
    {
     "data": {
      "text/plain": [
       "9"
      ]
     },
     "execution_count": 21,
     "metadata": {},
     "output_type": "execute_result"
    }
   ],
   "source": [
    "np.count_nonzero(ar)"
   ]
  },
  {
   "cell_type": "code",
   "execution_count": 22,
   "id": "6b6c1ec9",
   "metadata": {},
   "outputs": [
    {
     "data": {
      "text/plain": [
       "(array([0, 0, 0, 1, 1, 1, 2, 2, 2]), array([0, 1, 2, 0, 1, 2, 0, 1, 2]))"
      ]
     },
     "execution_count": 22,
     "metadata": {},
     "output_type": "execute_result"
    }
   ],
   "source": [
    "np.nonzero(ar)"
   ]
  },
  {
   "cell_type": "code",
   "execution_count": 23,
   "id": "406ec726",
   "metadata": {},
   "outputs": [
    {
     "data": {
      "text/plain": [
       "<memory at 0x7fb32b3e1930>"
      ]
     },
     "execution_count": 23,
     "metadata": {},
     "output_type": "execute_result"
    }
   ],
   "source": [
    "ar.data"
   ]
  },
  {
   "cell_type": "code",
   "execution_count": null,
   "id": "70e74dc2",
   "metadata": {},
   "outputs": [],
   "source": []
  }
 ],
 "metadata": {
  "kernelspec": {
   "display_name": "Python 3",
   "language": "python",
   "name": "python3"
  },
  "language_info": {
   "codemirror_mode": {
    "name": "ipython",
    "version": 3
   },
   "file_extension": ".py",
   "mimetype": "text/x-python",
   "name": "python",
   "nbconvert_exporter": "python",
   "pygments_lexer": "ipython3",
   "version": "3.8.8"
  }
 },
 "nbformat": 4,
 "nbformat_minor": 5
}
